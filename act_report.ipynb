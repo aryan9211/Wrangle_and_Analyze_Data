{
 "cells": [
  {
   "cell_type": "markdown",
   "metadata": {},
   "source": [
    "# Act report\n",
    "\n",
    "At the end of the cleaning proccess, the data contains 1994 entries and 22 columns.\n",
    "\n",
    "The basics statistics of the final data are:\n",
    "\n",
    "![Basic statistics](img/basic_statistics.png)\n",
    "\n",
    "As we can see there are still some strange values, this is because in the cleaning part I didn't cleaned all the dataset. I only have cleaned the issues I defined in the assessing part.\n",
    "\n",
    "One thing we can say is that the normal is that a tweet contains 1 image but the tweet that contains more images are 4 images in the same tweet.\n",
    "\n",
    "I also have generated an histogram of the data:\n",
    "\n",
    "![Histogram](img/histogram.png)\n",
    "\n",
    "In this case we see that for the favorite count most of them are below 25000 but there are some tweets with more than 100000. Also with this histogram we can see that there are some strange values in the rating denominator and numerator that they should be cleaned also. \n",
    "\n",
    "Same as the favorite count, we can also this in the retweet count where most of the tweets are under 10000 but some of them have more than 70000.\n",
    "\n",
    "Using the library Seaborn I also have created a pair plot:\n",
    "\n",
    "![Pair plot](img/pair_plot.png)\n",
    "\n",
    "We can clearly see that there is a positive correlation between retweet_count and favorite_count.\n",
    "\n",
    "If I plot this correlation in a regression plot I can see this:\n",
    "\n",
    "![Regression plot](img/regression_plot.png)\n",
    "\n",
    "In the analysis I also have checked the percentage of dogo's types on the rows that the dogo is defined.\n",
    "\n",
    "![Pie plot](img/pie_plot.png)\n",
    "\n",
    "As we can see, the dogo type most popular is \"pupper\" with a 68,8% of the tweets with dogo defined.\n",
    "\n",
    "Finally I also have generated a list with the top 10 breeds of dogs with more favorites in the tweets. To plot this data I used a barplot from the library Seaborn.\n",
    "\n",
    "![Favorite breeds](img/favorite_breeds.png)"
   ]
  }
 ],
 "metadata": {
  "kernelspec": {
   "display_name": "Python 3",
   "language": "python",
   "name": "python3"
  },
  "language_info": {
   "codemirror_mode": {
    "name": "ipython",
    "version": 3
   },
   "file_extension": ".py",
   "mimetype": "text/x-python",
   "name": "python",
   "nbconvert_exporter": "python",
   "pygments_lexer": "ipython3",
   "version": "3.6.3"
  }
 },
 "nbformat": 4,
 "nbformat_minor": 2
}
